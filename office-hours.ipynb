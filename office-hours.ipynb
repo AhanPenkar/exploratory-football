{
 "cells": [
  {
   "cell_type": "markdown",
   "metadata": {},
   "source": [
    "# Python and R\n",
    "\n",
    "This setup allows you to use *Python* and *R* in the same notebook.\n",
    "\n",
    "To set up a similar notebook, see quickstart instructions here:\n",
    "\n",
    "https://github.com/dmil/jupyter-quickstart\n",
    "\n",
    "Some thoughts on why I like this setup and how I use it at the [end](notebook.ipynb#Thoughts) of  this notebook."
   ]
  },
  {
   "cell_type": "code",
   "execution_count": 1,
   "metadata": {
    "tags": []
   },
   "outputs": [],
   "source": [
    "%load_ext rpy2.ipython\n",
    "%load_ext autoreload\n",
    "%autoreload 2\n",
    "\n",
    "%matplotlib inline  \n",
    "from matplotlib import rcParams\n",
    "rcParams['figure.figsize'] = (16, 100)\n",
    "\n",
    "import warnings\n",
    "from rpy2.rinterface import RRuntimeWarning\n",
    "warnings.filterwarnings(\"ignore\") # Ignore all warnings\n",
    "# warnings.filterwarnings(\"ignore\", category=RRuntimeWarning) # Show some warnings\n",
    "\n",
    "import pandas as pd\n",
    "import numpy as np\n",
    "import matplotlib.pyplot as plt\n",
    "from IPython.display import display, HTML"
   ]
  },
  {
   "cell_type": "code",
   "execution_count": 2,
   "metadata": {
    "tags": []
   },
   "outputs": [
    {
     "data": {
      "application/javascript": "// Disable auto-scrolling\nIPython.OutputArea.prototype._should_scroll = function(lines) {\n    return false;\n}\n",
      "text/plain": [
       "<IPython.core.display.Javascript object>"
      ]
     },
     "metadata": {},
     "output_type": "display_data"
    }
   ],
   "source": [
    "%%javascript\n",
    "// Disable auto-scrolling\n",
    "IPython.OutputArea.prototype._should_scroll = function(lines) {\n",
    "    return false;\n",
    "}"
   ]
  },
  {
   "cell_type": "markdown",
   "metadata": {},
   "source": [
    "This is a Python notebook, but below is an R cell. The `%%R` at the top of the cell indicates that the code in this cell will be R code."
   ]
  },
  {
   "cell_type": "code",
   "execution_count": 3,
   "metadata": {
    "tags": []
   },
   "outputs": [
    {
     "name": "stderr",
     "output_type": "stream",
     "text": [
      "R[write to console]: Loading required package: tidyverse\n",
      "\n"
     ]
    },
    {
     "name": "stdout",
     "output_type": "stream",
     "text": [
      "── Attaching packages ─────────────────────────────────────── tidyverse 1.3.2 ──\n",
      "✔ ggplot2 3.4.1     ✔ purrr   1.0.1\n",
      "✔ tibble  3.1.8     ✔ dplyr   1.1.0\n",
      "✔ tidyr   1.3.0     ✔ stringr 1.5.0\n",
      "✔ readr   2.1.3     ✔ forcats 0.5.1\n",
      "── Conflicts ────────────────────────────────────────── tidyverse_conflicts() ──\n",
      "✖ dplyr::filter() masks stats::filter()\n",
      "✖ dplyr::lag()    masks stats::lag()\n"
     ]
    }
   ],
   "source": [
    "%%R\n",
    "\n",
    "# My commonly used R imports\n",
    "\n",
    "require('tidyverse')"
   ]
  },
  {
   "cell_type": "code",
   "execution_count": 4,
   "metadata": {},
   "outputs": [
    {
     "name": "stderr",
     "output_type": "stream",
     "text": [
      "R[write to console]: Loading required package: worldfootballR\n",
      "\n"
     ]
    }
   ],
   "source": [
    "%%R\n",
    "\n",
    "require('worldfootballR')"
   ]
  },
  {
   "cell_type": "code",
   "execution_count": 5,
   "metadata": {
    "tags": []
   },
   "outputs": [],
   "source": [
    "%%R -o team_urls\n",
    "\n",
    "team_urls <- understat_team_meta(team_name = c(\"Liverpool\", \"Manchester City\"))\n"
   ]
  },
  {
   "cell_type": "code",
   "execution_count": 6,
   "metadata": {},
   "outputs": [
    {
     "data": {
      "text/html": [
       "<div>\n",
       "<style scoped>\n",
       "    .dataframe tbody tr th:only-of-type {\n",
       "        vertical-align: middle;\n",
       "    }\n",
       "\n",
       "    .dataframe tbody tr th {\n",
       "        vertical-align: top;\n",
       "    }\n",
       "\n",
       "    .dataframe thead th {\n",
       "        text-align: right;\n",
       "    }\n",
       "</style>\n",
       "<table border=\"1\" class=\"dataframe\">\n",
       "  <thead>\n",
       "    <tr style=\"text-align: right;\">\n",
       "      <th></th>\n",
       "      <th>team_name</th>\n",
       "      <th>year</th>\n",
       "      <th>season</th>\n",
       "      <th>url</th>\n",
       "    </tr>\n",
       "  </thead>\n",
       "  <tbody>\n",
       "    <tr>\n",
       "      <th>1</th>\n",
       "      <td>Liverpool</td>\n",
       "      <td>2022.0</td>\n",
       "      <td>2022/2023</td>\n",
       "      <td>https://understat.com/team/Liverpool/2022</td>\n",
       "    </tr>\n",
       "    <tr>\n",
       "      <th>2</th>\n",
       "      <td>Liverpool</td>\n",
       "      <td>2021.0</td>\n",
       "      <td>2021/2022</td>\n",
       "      <td>https://understat.com/team/Liverpool/2021</td>\n",
       "    </tr>\n",
       "    <tr>\n",
       "      <th>3</th>\n",
       "      <td>Liverpool</td>\n",
       "      <td>2020.0</td>\n",
       "      <td>2020/2021</td>\n",
       "      <td>https://understat.com/team/Liverpool/2020</td>\n",
       "    </tr>\n",
       "    <tr>\n",
       "      <th>4</th>\n",
       "      <td>Liverpool</td>\n",
       "      <td>2019.0</td>\n",
       "      <td>2019/2020</td>\n",
       "      <td>https://understat.com/team/Liverpool/2019</td>\n",
       "    </tr>\n",
       "    <tr>\n",
       "      <th>5</th>\n",
       "      <td>Liverpool</td>\n",
       "      <td>2018.0</td>\n",
       "      <td>2018/2019</td>\n",
       "      <td>https://understat.com/team/Liverpool/2018</td>\n",
       "    </tr>\n",
       "    <tr>\n",
       "      <th>6</th>\n",
       "      <td>Liverpool</td>\n",
       "      <td>2017.0</td>\n",
       "      <td>2017/2018</td>\n",
       "      <td>https://understat.com/team/Liverpool/2017</td>\n",
       "    </tr>\n",
       "    <tr>\n",
       "      <th>7</th>\n",
       "      <td>Liverpool</td>\n",
       "      <td>2016.0</td>\n",
       "      <td>2016/2017</td>\n",
       "      <td>https://understat.com/team/Liverpool/2016</td>\n",
       "    </tr>\n",
       "    <tr>\n",
       "      <th>8</th>\n",
       "      <td>Liverpool</td>\n",
       "      <td>2015.0</td>\n",
       "      <td>2015/2016</td>\n",
       "      <td>https://understat.com/team/Liverpool/2015</td>\n",
       "    </tr>\n",
       "    <tr>\n",
       "      <th>9</th>\n",
       "      <td>Liverpool</td>\n",
       "      <td>2014.0</td>\n",
       "      <td>2014/2015</td>\n",
       "      <td>https://understat.com/team/Liverpool/2014</td>\n",
       "    </tr>\n",
       "    <tr>\n",
       "      <th>10</th>\n",
       "      <td>Manchester_City</td>\n",
       "      <td>2022.0</td>\n",
       "      <td>2022/2023</td>\n",
       "      <td>https://understat.com/team/Manchester_City/2022</td>\n",
       "    </tr>\n",
       "    <tr>\n",
       "      <th>11</th>\n",
       "      <td>Manchester_City</td>\n",
       "      <td>2021.0</td>\n",
       "      <td>2021/2022</td>\n",
       "      <td>https://understat.com/team/Manchester_City/2021</td>\n",
       "    </tr>\n",
       "    <tr>\n",
       "      <th>12</th>\n",
       "      <td>Manchester_City</td>\n",
       "      <td>2020.0</td>\n",
       "      <td>2020/2021</td>\n",
       "      <td>https://understat.com/team/Manchester_City/2020</td>\n",
       "    </tr>\n",
       "    <tr>\n",
       "      <th>13</th>\n",
       "      <td>Manchester_City</td>\n",
       "      <td>2019.0</td>\n",
       "      <td>2019/2020</td>\n",
       "      <td>https://understat.com/team/Manchester_City/2019</td>\n",
       "    </tr>\n",
       "    <tr>\n",
       "      <th>14</th>\n",
       "      <td>Manchester_City</td>\n",
       "      <td>2018.0</td>\n",
       "      <td>2018/2019</td>\n",
       "      <td>https://understat.com/team/Manchester_City/2018</td>\n",
       "    </tr>\n",
       "    <tr>\n",
       "      <th>15</th>\n",
       "      <td>Manchester_City</td>\n",
       "      <td>2017.0</td>\n",
       "      <td>2017/2018</td>\n",
       "      <td>https://understat.com/team/Manchester_City/2017</td>\n",
       "    </tr>\n",
       "    <tr>\n",
       "      <th>16</th>\n",
       "      <td>Manchester_City</td>\n",
       "      <td>2016.0</td>\n",
       "      <td>2016/2017</td>\n",
       "      <td>https://understat.com/team/Manchester_City/2016</td>\n",
       "    </tr>\n",
       "    <tr>\n",
       "      <th>17</th>\n",
       "      <td>Manchester_City</td>\n",
       "      <td>2015.0</td>\n",
       "      <td>2015/2016</td>\n",
       "      <td>https://understat.com/team/Manchester_City/2015</td>\n",
       "    </tr>\n",
       "    <tr>\n",
       "      <th>18</th>\n",
       "      <td>Manchester_City</td>\n",
       "      <td>2014.0</td>\n",
       "      <td>2014/2015</td>\n",
       "      <td>https://understat.com/team/Manchester_City/2014</td>\n",
       "    </tr>\n",
       "  </tbody>\n",
       "</table>\n",
       "</div>"
      ],
      "text/plain": [
       "          team_name    year     season   \n",
       "1         Liverpool  2022.0  2022/2023  \\\n",
       "2         Liverpool  2021.0  2021/2022   \n",
       "3         Liverpool  2020.0  2020/2021   \n",
       "4         Liverpool  2019.0  2019/2020   \n",
       "5         Liverpool  2018.0  2018/2019   \n",
       "6         Liverpool  2017.0  2017/2018   \n",
       "7         Liverpool  2016.0  2016/2017   \n",
       "8         Liverpool  2015.0  2015/2016   \n",
       "9         Liverpool  2014.0  2014/2015   \n",
       "10  Manchester_City  2022.0  2022/2023   \n",
       "11  Manchester_City  2021.0  2021/2022   \n",
       "12  Manchester_City  2020.0  2020/2021   \n",
       "13  Manchester_City  2019.0  2019/2020   \n",
       "14  Manchester_City  2018.0  2018/2019   \n",
       "15  Manchester_City  2017.0  2017/2018   \n",
       "16  Manchester_City  2016.0  2016/2017   \n",
       "17  Manchester_City  2015.0  2015/2016   \n",
       "18  Manchester_City  2014.0  2014/2015   \n",
       "\n",
       "                                                url  \n",
       "1         https://understat.com/team/Liverpool/2022  \n",
       "2         https://understat.com/team/Liverpool/2021  \n",
       "3         https://understat.com/team/Liverpool/2020  \n",
       "4         https://understat.com/team/Liverpool/2019  \n",
       "5         https://understat.com/team/Liverpool/2018  \n",
       "6         https://understat.com/team/Liverpool/2017  \n",
       "7         https://understat.com/team/Liverpool/2016  \n",
       "8         https://understat.com/team/Liverpool/2015  \n",
       "9         https://understat.com/team/Liverpool/2014  \n",
       "10  https://understat.com/team/Manchester_City/2022  \n",
       "11  https://understat.com/team/Manchester_City/2021  \n",
       "12  https://understat.com/team/Manchester_City/2020  \n",
       "13  https://understat.com/team/Manchester_City/2019  \n",
       "14  https://understat.com/team/Manchester_City/2018  \n",
       "15  https://understat.com/team/Manchester_City/2017  \n",
       "16  https://understat.com/team/Manchester_City/2016  \n",
       "17  https://understat.com/team/Manchester_City/2015  \n",
       "18  https://understat.com/team/Manchester_City/2014  "
      ]
     },
     "execution_count": 6,
     "metadata": {},
     "output_type": "execute_result"
    }
   ],
   "source": [
    "team_urls"
   ]
  },
  {
   "cell_type": "code",
   "execution_count": null,
   "metadata": {},
   "outputs": [],
   "source": []
  },
  {
   "cell_type": "code",
   "execution_count": null,
   "metadata": {},
   "outputs": [],
   "source": []
  },
  {
   "cell_type": "code",
   "execution_count": null,
   "metadata": {},
   "outputs": [],
   "source": []
  },
  {
   "cell_type": "code",
   "execution_count": null,
   "metadata": {},
   "outputs": [],
   "source": []
  }
 ],
 "metadata": {
  "kernelspec": {
   "display_name": "Python 3 (ipykernel)",
   "language": "python",
   "name": "python3"
  },
  "language_info": {
   "codemirror_mode": {
    "name": "ipython",
    "version": 3
   },
   "file_extension": ".py",
   "mimetype": "text/x-python",
   "name": "python",
   "nbconvert_exporter": "python",
   "pygments_lexer": "ipython3",
   "version": "3.11.2"
  }
 },
 "nbformat": 4,
 "nbformat_minor": 4
}
